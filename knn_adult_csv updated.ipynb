{
  "cells": [
    {
      "cell_type": "code",
      "execution_count": null,
      "metadata": {
        "id": "kNv1VjDN0wfA"
      },
      "outputs": [],
      "source": [
        "import pandas as pd\n",
        "import matplotlib.pyplot as plt\n",
        "import seaborn as sns"
      ]
    },
    {
      "cell_type": "code",
      "execution_count": null,
      "metadata": {
        "colab": {
          "base_uri": "https://localhost:8080/",
          "height": 991
        },
        "id": "hHzU4EJc33k1",
        "outputId": "4b60cfc0-9178-4c27-e877-ca49ea89e76d"
      },
      "outputs": [],
      "source": [
        "data=pd.read_csv(\"/content/sample_data/adult.csv\")\n",
        "data.head(15)"
      ]
    },
    {
      "cell_type": "code",
      "execution_count": null,
      "metadata": {
        "colab": {
          "base_uri": "https://localhost:8080/"
        },
        "id": "WB-IfA5s5mIF",
        "outputId": "f331ffda-f6ba-420b-a9e2-a0f4ac18127c"
      },
      "outputs": [],
      "source": [
        "data.shape"
      ]
    },
    {
      "cell_type": "markdown",
      "metadata": {
        "id": "O1X9U6TypgXl"
      },
      "source": [
        "\n",
        "# finding null values"
      ]
    },
    {
      "cell_type": "code",
      "execution_count": null,
      "metadata": {
        "colab": {
          "base_uri": "https://localhost:8080/"
        },
        "id": "witxZhqB-9yu",
        "outputId": "67da2dd0-57cb-47f4-fc49-f9477c0510a7"
      },
      "outputs": [],
      "source": [
        "data.isna().sum()"
      ]
    },
    {
      "cell_type": "code",
      "execution_count": null,
      "metadata": {
        "colab": {
          "base_uri": "https://localhost:8080/"
        },
        "id": "MwetoXHF_tWp",
        "outputId": "24b37f86-a6bf-4511-f115-674f2adeda6a"
      },
      "outputs": [],
      "source": [
        "print(data.workclass.value_counts())"
      ]
    },
    {
      "cell_type": "code",
      "execution_count": null,
      "metadata": {
        "colab": {
          "base_uri": "https://localhost:8080/"
        },
        "id": "eFjG9PATA68C",
        "outputId": "64c8a99c-9a66-411a-8ff9-5df79f5a544e"
      },
      "outputs": [],
      "source": [
        "\n",
        "data.workclass.replace({'?':'Others'},inplace=True)\n",
        "print('Workclass')\n",
        "print(data['workclass'].value_counts())"
      ]
    },
    {
      "cell_type": "code",
      "execution_count": null,
      "metadata": {
        "colab": {
          "base_uri": "https://localhost:8080/",
          "height": 696
        },
        "id": "PlpSvUMMBjAk",
        "outputId": "91e3d4fc-32b4-4189-beb3-a023df9642d6"
      },
      "outputs": [],
      "source": [
        "data"
      ]
    },
    {
      "cell_type": "code",
      "execution_count": null,
      "metadata": {
        "colab": {
          "base_uri": "https://localhost:8080/"
        },
        "id": "WujgqmWcB3RW",
        "outputId": "e745f2b0-f208-406b-d3e8-96e4c19a174f"
      },
      "outputs": [],
      "source": [
        "print(data['workclass'].value_counts())"
      ]
    },
    {
      "cell_type": "code",
      "execution_count": null,
      "metadata": {
        "colab": {
          "base_uri": "https://localhost:8080/"
        },
        "id": "6R7HT3NPCTaX",
        "outputId": "295b5666-cd48-4d1d-951b-9b34a4794ee3"
      },
      "outputs": [],
      "source": [
        "print(data.education.value_counts())"
      ]
    },
    {
      "cell_type": "code",
      "execution_count": null,
      "metadata": {
        "colab": {
          "base_uri": "https://localhost:8080/"
        },
        "id": "nmKE_ApUIyWi",
        "outputId": "eb57faa8-e38b-436e-9c06-3ec8284b810f"
      },
      "outputs": [],
      "source": [
        "print(data['marital-status'].value_counts())"
      ]
    },
    {
      "cell_type": "code",
      "execution_count": null,
      "metadata": {
        "colab": {
          "base_uri": "https://localhost:8080/"
        },
        "id": "9wYWzcNPn7_S",
        "outputId": "a82a0937-47fe-4c8b-a863-d67f45021fbb"
      },
      "outputs": [],
      "source": [
        "print(data.occupation.value_counts())"
      ]
    },
    {
      "cell_type": "code",
      "execution_count": null,
      "metadata": {
        "id": "tvhi7SDpgerD"
      },
      "outputs": [],
      "source": [
        "data.occupation.replace({'?':'Others'},inplace=True)"
      ]
    },
    {
      "cell_type": "markdown",
      "metadata": {
        "id": "wDypdGXWqooh"
      },
      "source": [
        "# Finding and handling outliers"
      ]
    },
    {
      "cell_type": "code",
      "execution_count": null,
      "metadata": {
        "colab": {
          "base_uri": "https://localhost:8080/",
          "height": 430
        },
        "id": "lPnurCgQsfzE",
        "outputId": "4e482214-9aa9-4dce-b1df-8144f7a43a6c"
      },
      "outputs": [],
      "source": [
        "plt.boxplot(data['age'])\n",
        "plt.show()"
      ]
    },
    {
      "cell_type": "code",
      "execution_count": null,
      "metadata": {
        "id": "pAm4uQzSq4yd"
      },
      "outputs": [],
      "source": [
        "data=data[(data['age']<=75) & (data['age']>=17)]"
      ]
    },
    {
      "cell_type": "code",
      "execution_count": null,
      "metadata": {
        "id": "L62kaLs0rYHi"
      },
      "outputs": [],
      "source": [
        "# Outliers removing/ dataset cleaning by mutual understanding"
      ]
    },
    {
      "cell_type": "code",
      "execution_count": null,
      "metadata": {
        "colab": {
          "base_uri": "https://localhost:8080/"
        },
        "id": "nUfnkswdrp70",
        "outputId": "3667b301-9b37-446e-8b32-d73277db9055"
      },
      "outputs": [],
      "source": [
        "data.workclass.value_counts()\n"
      ]
    },
    {
      "cell_type": "code",
      "execution_count": null,
      "metadata": {
        "id": "KGXUmwwnrxUJ"
      },
      "outputs": [],
      "source": [
        "# in the above code 'without-pay and 'never-worked' having very less count as well as they are not earning\n",
        "# so not required for income prediction\n",
        "# so we can remove such data\n",
        "data=data[data['workclass']!='Without-pay']\n",
        "data=data[data['workclass']!='Never-worked']\n"
      ]
    },
    {
      "cell_type": "code",
      "execution_count": null,
      "metadata": {
        "colab": {
          "base_uri": "https://localhost:8080/"
        },
        "id": "AamTH7nVq6eo",
        "outputId": "dc131af0-9e60-48a7-cb03-2510ba0f06ed"
      },
      "outputs": [
        {
          "data": {
            "text/plain": [
              "(48438, 15)"
            ]
          },
          "execution_count": 12,
          "metadata": {},
          "output_type": "execute_result"
        }
      ],
      "source": [
        "data.shape"
      ]
    },
    {
      "cell_type": "markdown",
      "metadata": {
        "id": "_idXDCTNtQAU"
      },
      "source": []
    },
    {
      "cell_type": "code",
      "execution_count": null,
      "metadata": {
        "colab": {
          "base_uri": "https://localhost:8080/"
        },
        "id": "VqTVxTZDtLIA",
        "outputId": "d2f96d4f-1368-46fa-ee1e-239e0eb4dc08"
      },
      "outputs": [],
      "source": [
        "data.education.value_counts()"
      ]
    },
    {
      "cell_type": "code",
      "execution_count": null,
      "metadata": {
        "id": "Usrt1HEDtY2S"
      },
      "outputs": [],
      "source": [
        "# here also we can eliminate some categories like '1st-4th','5th-6th','Preschool'\n",
        "data=data[data['education']!='1st-4th']\n",
        "data=data[data['education']!='5th-6th']\n",
        "data=data[data['education']!='Preschool']"
      ]
    },
    {
      "cell_type": "code",
      "execution_count": null,
      "metadata": {
        "colab": {
          "base_uri": "https://localhost:8080/"
        },
        "id": "luel1WD_uNdb",
        "outputId": "2065d68b-99c6-4790-f9a5-8961d5b26280"
      },
      "outputs": [
        {
          "data": {
            "text/plain": [
              "(47619, 15)"
            ]
          },
          "execution_count": 15,
          "metadata": {},
          "output_type": "execute_result"
        }
      ],
      "source": [
        "data.shape"
      ]
    },
    {
      "cell_type": "code",
      "execution_count": null,
      "metadata": {
        "colab": {
          "base_uri": "https://localhost:8080/"
        },
        "id": "PyCm0HY_svYd",
        "outputId": "3e62fe11-e172-4bf0-aa84-71bc1c9439b5"
      },
      "outputs": [],
      "source": [
        "# now the 'education' and 'education-num' are giving us same information so we will keep only one of them\n",
        "# here i will remove the text data column 'education'\n",
        "data.drop(columns=['education'],inplace=True)\n",
        "data.columns\n"
      ]
    },
    {
      "cell_type": "code",
      "execution_count": null,
      "metadata": {
        "colab": {
          "base_uri": "https://localhost:8080/",
          "height": 756
        },
        "id": "3cJDN5jv0fE9",
        "outputId": "cc7a7008-27cf-4b1c-cf0b-6ca53f1ba664"
      },
      "outputs": [],
      "source": [
        "data"
      ]
    },
    {
      "cell_type": "code",
      "execution_count": null,
      "metadata": {
        "id": "nQoSTDjhu_AA"
      },
      "outputs": [],
      "source": [
        "# as we know the algorithm is a mathematical expression so it cannot work on text data\n",
        "# so we have to convert text data collumns in to numerical for that we will use encoder"
      ]
    },
    {
      "cell_type": "code",
      "execution_count": null,
      "metadata": {
        "colab": {
          "base_uri": "https://localhost:8080/",
          "height": 478
        },
        "id": "TpW7Lk-PjcHC",
        "outputId": "08133ad5-b4d4-4c58-f10b-a8e1fff97cbc"
      },
      "outputs": [],
      "source": [
        "from sklearn.preprocessing import LabelEncoder\n",
        "encoder=LabelEncoder()\n",
        "data['workclass']=encoder.fit_transform(data['workclass'])\n",
        "data['marital-status']=encoder.fit_transform(data['marital-status'])\n",
        "data['occupation']=encoder.fit_transform(data['occupation'])\n",
        "data['relationship']=encoder.fit_transform(data['relationship'])\n",
        "data['race']=encoder.fit_transform(data['race'])\n",
        "data['gender']=encoder.fit_transform(data['gender'])\n",
        "data['native-country']=encoder.fit_transform(data['native-country'])\n",
        "data"
      ]
    },
    {
      "cell_type": "code",
      "execution_count": null,
      "metadata": {
        "id": "7HnECG22nLQT"
      },
      "outputs": [],
      "source": [
        "# spliting data in to X(independent variable) and Y (dependent variable)"
      ]
    },
    {
      "cell_type": "code",
      "execution_count": null,
      "metadata": {
        "colab": {
          "base_uri": "https://localhost:8080/",
          "height": 478
        },
        "id": "UP1Cf1wk1C10",
        "outputId": "16269bc1-c23b-4131-e899-720cba6025cd"
      },
      "outputs": [],
      "source": [
        "X=data.drop(columns=['income'])\n",
        "Y=data['income']\n",
        "X"
      ]
    },
    {
      "cell_type": "code",
      "execution_count": null,
      "metadata": {
        "id": "MLXWEK193kqM"
      },
      "outputs": [],
      "source": [
        "Y"
      ]
    },
    {
      "cell_type": "code",
      "execution_count": null,
      "metadata": {
        "id": "uAtSK9Z2weoz"
      },
      "outputs": [],
      "source": [
        "# scaller will convert entire data in one range that is 0 to 1"
      ]
    },
    {
      "cell_type": "code",
      "execution_count": null,
      "metadata": {
        "colab": {
          "base_uri": "https://localhost:8080/"
        },
        "id": "DeTRvTHk3APE",
        "outputId": "21a4a7dd-42a0-4404-e808-a1fa341fd07a"
      },
      "outputs": [],
      "source": [
        "from sklearn.preprocessing import MinMaxScaler\n",
        "scaler=MinMaxScaler()\n",
        "X=scaler.fit_transform(X)\n",
        "X"
      ]
    },
    {
      "cell_type": "code",
      "execution_count": null,
      "metadata": {
        "id": "YVyUhN-j3lR6"
      },
      "outputs": [],
      "source": [
        "from sklearn.model_selection import train_test_split\n",
        "xtrain,xtest,ytrain,ytest=train_test_split(X,Y,test_size=0.2,random_state=23,stratify=Y)\n",
        "# here random_state=True suggest that the records getting choosen for trainning\n",
        "# and testing will be in random order\n",
        "# statify=Y we use only for classification task\n",
        "# statify maintans the catagorical ratio in output column(Y) while getting choosen for trainning and testing"
      ]
    },
    {
      "cell_type": "code",
      "execution_count": null,
      "metadata": {
        "colab": {
          "base_uri": "https://localhost:8080/"
        },
        "id": "ywrHmyN_E-_e",
        "outputId": "6db357a7-4872-459a-9bed-3a2fe001a8cf"
      },
      "outputs": [],
      "source": [
        "from sklearn.neighbors import KNeighborsClassifier\n",
        "knn=KNeighborsClassifier()\n",
        "knn.fit(xtrain,ytrain)\n",
        "predict=knn.predict(xtest)\n",
        "predict"
      ]
    },
    {
      "cell_type": "code",
      "execution_count": null,
      "metadata": {
        "colab": {
          "base_uri": "https://localhost:8080/"
        },
        "id": "oUrACTE3L6q7",
        "outputId": "9f6c7dd8-ed9d-454d-9f64-2ad09814569e"
      },
      "outputs": [
        {
          "data": {
            "text/plain": [
              "0.8167786644267114"
            ]
          },
          "execution_count": 23,
          "metadata": {},
          "output_type": "execute_result"
        }
      ],
      "source": [
        "from sklearn.metrics import accuracy_score\n",
        "accuracy_score(ytest,predict)"
      ]
    },
    {
      "cell_type": "code",
      "execution_count": null,
      "metadata": {
        "id": "8PJ_VeAVIjHU"
      },
      "outputs": [],
      "source": [
        "# from sklearn.model_selection import GridSearchCV\n",
        "# knn=KNeighborsClassifier(n_jobs=-1)\n",
        "# param_grid={\n",
        "#     'n_neighbors':[3,5,7],\n",
        "#     'weights':['uniform', 'distance'],\n",
        "#     'algorithm':['auto', 'ball_tree', 'kd_tree', 'brute'],\n",
        "# }\n",
        "# gsv=GridSearchCV(knn,param_grid,n_jobs=-1,refit=True)\n",
        "# gsv.fit(xtrain,ytrain)\n",
        "# prediction=gsv.predict(xtest)\n",
        "# print(gsv.best_params_)\n",
        "# print(gsv.best_score_)\n",
        "# print(accuracy_score(ytest,prediction))"
      ]
    }
  ],
  "metadata": {
    "colab": {
      "provenance": []
    },
    "kernelspec": {
      "display_name": "Python 3",
      "name": "python3"
    },
    "language_info": {
      "codemirror_mode": {
        "name": "ipython",
        "version": 3
      },
      "file_extension": ".py",
      "mimetype": "text/x-python",
      "name": "python",
      "nbconvert_exporter": "python",
      "pygments_lexer": "ipython3",
      "version": "3.10.0"
    }
  },
  "nbformat": 4,
  "nbformat_minor": 0
}
